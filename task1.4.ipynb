{
 "cells": [
  {
   "cell_type": "markdown",
   "metadata": {},
   "source": [
    "# <a id=\"#\">Task 1.4 – Writing loops in Python</a>"
   ]
  },
  {
   "cell_type": "markdown",
   "metadata": {},
   "source": [
    "**<a id=\"#\">Task 1.4.1.</a>** Use a `while`-loop to write the numbers from 5 to 15.\n",
    "\n",
    "**Hint:** The Syntax of a `while`-loop is\n",
    "```python\n",
    "while condition:\n",
    "    operation\n",
    "```\n",
    "\n",
    "Example:\n",
    "```python\n",
    "i = 0\n",
    "while i < 10:\n",
    "    print(i)\n",
    "    i = i + 1\n",
    "```\n",
    "\n",
    "**Hint:** Variables and text can be printed using `print`, for example:\n",
    "```python\n",
    "print(i)\n",
    "print('The result is i=' + str(i))\n",
    "```\n",
    "\n",
    "**Hint:** If your code cell keeps running seemingly forever, you have probably produced an *infinite loop*. In that case, you can interrupt the execution of the code cell by clicking the □ button which appears right to the left of the executed cell, and then fix the problem. If the □ button does not appear, try clicking the cell first!"
   ]
  },
  {
   "cell_type": "code",
   "execution_count": 1,
   "metadata": {},
   "outputs": [
    {
     "name": "stdout",
     "output_type": "stream",
     "text": [
      "0\n",
      "4\n"
     ]
    }
   ],
   "source": [
    "i=0\n",
    "while i <= 10:\n",
    "    print(i)\n",
    "    i=(i+2)**2"
   ]
  },
  {
   "cell_type": "markdown",
   "metadata": {},
   "source": [
    "<div class=\"alert alert-block alert-success\"><b>Hint:</b> Now might be a good moment to commit and push your progress :) preferably, you should be doing this <em>at least</em> after completing each task. It doesn't harm if you do it sometimes in between too, e.g., when you feel like you have had some significant progress with a task.</div>"
   ]
  },
  {
   "cell_type": "markdown",
   "metadata": {},
   "source": [
    "**<a id=\"#\">Task 1.4.2.</a>** Use a `while`-loop to compute and write the squares of the numbers from 1 to 20. The result should be shown like:\n",
    "```\n",
    "1 -> 1\n",
    "2 -> 4\n",
    "3 -> 9\n",
    "…\n",
    "20 -> 400\n",
    "```\n",
    "**Hint:** Square of a number `i` can be computed by `i ** 2` or `i * i`."
   ]
  },
  {
   "cell_type": "code",
   "execution_count": 2,
   "metadata": {},
   "outputs": [
    {
     "data": {
      "text/plain": [
       "1296"
      ]
     },
     "execution_count": 2,
     "metadata": {},
     "output_type": "execute_result"
    }
   ],
   "source": [
    "i**2"
   ]
  },
  {
   "cell_type": "markdown",
   "metadata": {},
   "source": [
    "**<a id=\"#\">Task 1.4.3.</a>** Copy your solution from **Task 1.4.2** and modify the code such that *the squares are only computed for even numbers*."
   ]
  },
  {
   "cell_type": "code",
   "execution_count": 3,
   "metadata": {},
   "outputs": [
    {
     "name": "stdout",
     "output_type": "stream",
     "text": [
      "0\n",
      "4\n",
      "16\n",
      "36\n",
      "64\n",
      "100\n",
      "144\n",
      "196\n",
      "256\n",
      "324\n",
      "400\n"
     ]
    }
   ],
   "source": [
    "i=0\n",
    "while i <= 20:\n",
    "    print(i**2)\n",
    "    i=i+2"
   ]
  },
  {
   "cell_type": "markdown",
   "metadata": {},
   "source": [
    "**<a id=\"#\">Task 1.4.4.</a>** Use a `for`-loop to compute the sum of the numbers from 1 to 100. The correct result would be 5050.\n",
    "\n",
    "**Hint:** The Syntax of a `for`-loop is\n",
    "```python\n",
    "for i in iterable:\n",
    "    operation\n",
    "```\n",
    "\n",
    "Example:\n",
    "```python\n",
    "for i in [1, 2, 3, 4, 5, 6, 7, 8, 9, 10]:\n",
    "    print(i)\n",
    "```\n",
    "\n",
    "**Hint:** An `iterable` sequence of numbers from `i` (inclusive) to `j` (exclusive) can be constructed using `range(i, j)`."
   ]
  },
  {
   "cell_type": "code",
   "execution_count": 4,
   "metadata": {},
   "outputs": [
    {
     "name": "stdout",
     "output_type": "stream",
     "text": [
      "1\n",
      "3\n",
      "6\n",
      "10\n",
      "15\n",
      "21\n",
      "28\n",
      "36\n",
      "45\n",
      "55\n",
      "66\n",
      "78\n",
      "91\n",
      "105\n",
      "120\n",
      "136\n",
      "153\n",
      "171\n",
      "190\n",
      "210\n",
      "231\n",
      "253\n",
      "276\n",
      "300\n",
      "325\n",
      "351\n",
      "378\n",
      "406\n",
      "435\n",
      "465\n",
      "496\n",
      "528\n",
      "561\n",
      "595\n",
      "630\n",
      "666\n",
      "703\n",
      "741\n",
      "780\n",
      "820\n",
      "861\n",
      "903\n",
      "946\n",
      "990\n",
      "1035\n",
      "1081\n",
      "1128\n",
      "1176\n",
      "1225\n",
      "1275\n",
      "1326\n",
      "1378\n",
      "1431\n",
      "1485\n",
      "1540\n",
      "1596\n",
      "1653\n",
      "1711\n",
      "1770\n",
      "1830\n",
      "1891\n",
      "1953\n",
      "2016\n",
      "2080\n",
      "2145\n",
      "2211\n",
      "2278\n",
      "2346\n",
      "2415\n",
      "2485\n",
      "2556\n",
      "2628\n",
      "2701\n",
      "2775\n",
      "2850\n",
      "2926\n",
      "3003\n",
      "3081\n",
      "3160\n",
      "3240\n",
      "3321\n",
      "3403\n",
      "3486\n",
      "3570\n",
      "3655\n",
      "3741\n",
      "3828\n",
      "3916\n",
      "4005\n",
      "4095\n",
      "4186\n",
      "4278\n",
      "4371\n",
      "4465\n",
      "4560\n",
      "4656\n",
      "4753\n",
      "4851\n",
      "4950\n",
      "5050\n"
     ]
    }
   ],
   "source": [
    "x = range(1,101)\n",
    "summe = 0\n",
    "for i in x:\n",
    "    summe = summe + i\n",
    "    print(summe)"
   ]
  },
  {
   "cell_type": "markdown",
   "metadata": {},
   "source": [
    "**<a id=\"#\">Task 1.4.5.</a>** Generate the times table (\"Kleines Einmaleins\") by using two nested for loops, i.e., using an outer and an inner loop. The result should be shown like:\n",
    "```\n",
    "1 2 3 … 10\n",
    "2 4 6 … 20\n",
    "3 6 9 … 30\n",
    "…\n",
    "10 20 30 … 100\n",
    "```\n",
    "\n",
    "**Hint:** The function `print(s, end='')` works like `print(s)` but does *not* append a line break (as `print(s)` does)."
   ]
  },
  {
   "cell_type": "code",
   "execution_count": 5,
   "metadata": {},
   "outputs": [
    {
     "name": "stdout",
     "output_type": "stream",
     "text": [
      "1\n",
      "1  2  3  4  5  6  7  8  9  10  2\n",
      "2  4  6  8  10  12  14  16  18  20  3\n",
      "3  6  9  12  15  18  21  24  27  30  4\n",
      "4  8  12  16  20  24  28  32  36  40  5\n",
      "5  10  15  20  25  30  35  40  45  50  6\n",
      "6  12  18  24  30  36  42  48  54  60  7\n",
      "7  14  21  28  35  42  49  56  63  70  8\n",
      "8  16  24  32  40  48  56  64  72  80  9\n",
      "9  18  27  36  45  54  63  72  81  90  10\n",
      "10  20  30  40  50  60  70  80  90  100  "
     ]
    }
   ],
   "source": [
    "i = 1\n",
    "for j in range(0,10):\n",
    "    x = i + j\n",
    "    print(x)\n",
    "    for k in range(1,11):\n",
    "        y = x * k\n",
    "        print(y, end='  ')\n",
    "        "
   ]
  },
  {
   "cell_type": "markdown",
   "metadata": {},
   "source": [
    "**<a id=\"#\">Task 1.4.6.</a>** Copy your solution from **Task 1.4.5** and modify the code such that *values below 10 in the times table have a leading zero* (e.g., `05` instead of only `5`). This can be achieved, for example, by using an `if`-statement.\n",
    "\n",
    "**Hint:** The Syntax of an `if`-statement is\n",
    "```python\n",
    "if condition:\n",
    "    operation1\n",
    "else:\n",
    "    operation2\n",
    "```\n",
    "\n",
    "Example:\n",
    "```python\n",
    "if val < 5:\n",
    "    print('val is less than 5')\n",
    "else:\n",
    "    print('val is larger or equal 5')\n",
    "```"
   ]
  },
  {
   "cell_type": "code",
   "execution_count": 6,
   "metadata": {},
   "outputs": [
    {
     "name": "stdout",
     "output_type": "stream",
     "text": [
      "01  02  03  04  05  06  07  08  09  10  02  04  06  08  10  12  14  16  18  20  03  06  09  12  15  18  21  24  27  30  04  08  12  16  20  24  28  32  36  40  05  10  15  20  25  30  35  40  45  50  06  12  18  24  30  36  42  48  54  60  07  14  21  28  35  42  49  56  63  70  08  16  24  32  40  48  56  64  72  80  09  18  27  36  45  54  63  72  81  90  10  20  30  40  50  60  70  80  90  100\n"
     ]
    }
   ],
   "source": [
    "i = 1\n",
    "for j in range(0,10):\n",
    "    x = i + j\n",
    "    for k in range(1,11):\n",
    "            y = x * k\n",
    "            if y < 100:\n",
    "                print(f\"{y:02d}\",end='  ')\n",
    "            else:\n",
    "                print(y)"
   ]
  }
 ],
 "metadata": {
  "kernelspec": {
   "display_name": "Python 3",
   "language": "python",
   "name": "python3"
  },
  "language_info": {
   "codemirror_mode": {
    "name": "ipython",
    "version": 3
   },
   "file_extension": ".py",
   "mimetype": "text/x-python",
   "name": "python",
   "nbconvert_exporter": "python",
   "pygments_lexer": "ipython3",
   "version": "3.11.6"
  }
 },
 "nbformat": 4,
 "nbformat_minor": 2
}
